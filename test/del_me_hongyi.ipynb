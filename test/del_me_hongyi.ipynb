{
 "cells": [
  {
   "cell_type": "code",
   "execution_count": 1,
   "metadata": {
    "collapsed": true
   },
   "outputs": [],
   "source": [
    "import pandas as pd\n",
    "import numpy as np\n",
    "from glob import glob"
   ]
  },
  {
   "cell_type": "code",
   "execution_count": 2,
   "metadata": {
    "collapsed": true
   },
   "outputs": [],
   "source": [
    "# INPUTS------------------------------------------------------------------\n",
    "# Number of Components\n",
    "k = 4\n",
    "# Component names\n",
    "variable = ['angle1','angle2','angle3','angle4']\n",
    "\n",
    "# layer names\n",
    "# Used for extracting corresponding layer size for design while reading\n",
    "# the des file\n",
    "layer_name = ['m[0]','m[1]','m[2]','m[3]']\n",
    "\n",
    "# Max number of layers\n",
    "max_len = 20\n",
    "#----- END INPUTS---------------------------------------------------------"
   ]
  },
  {
   "cell_type": "code",
   "execution_count": 10,
   "metadata": {
    "collapsed": false
   },
   "outputs": [
    {
     "name": "stdout",
     "output_type": "stream",
     "text": [
      "Completed:    ./redundancy_check_for_existing_runs\\moga-generation-based-seed1.des\n",
      "Completed:    ./redundancy_check_for_existing_runs\\moga-generation-based-seed2.des\n",
      "Completed:    ./redundancy_check_for_existing_runs\\moga-generation-based-seed3.des\n",
      "Completed:    ./redundancy_check_for_existing_runs\\moga-generation-based-seed4.des\n",
      "Completed:    ./redundancy_check_for_existing_runs\\moga-generation-based-seed5.des\n",
      "Completed:    ./redundancy_check_for_existing_runs\\moga-steadystate-seed1.des\n",
      "Completed:    ./redundancy_check_for_existing_runs\\moga-steadystate-seed2.des\n",
      "Completed:    ./redundancy_check_for_existing_runs\\moga-steadystate-seed3.des\n",
      "Completed:    ./redundancy_check_for_existing_runs\\moga-steadystate-seed4.des\n",
      "Completed:    ./redundancy_check_for_existing_runs\\moga-steadystate-seed5.des\n",
      "Completed:    ./redundancy_check_for_existing_runs\\nsga-generation-based-seed1.des\n",
      "Completed:    ./redundancy_check_for_existing_runs\\nsga-generation-based-seed2.des\n",
      "Completed:    ./redundancy_check_for_existing_runs\\nsga-generation-based-seed3.des\n",
      "Completed:    ./redundancy_check_for_existing_runs\\nsga-generation-based-seed4.des\n",
      "Completed:    ./redundancy_check_for_existing_runs\\nsga-generation-based-seed5.des\n",
      "Completed:    ./redundancy_check_for_existing_runs\\nsga-steadystate-seed1.des\n",
      "Completed:    ./redundancy_check_for_existing_runs\\nsga-steadystate-seed2.des\n",
      "Completed:    ./redundancy_check_for_existing_runs\\nsga-steadystate-seed3.des\n",
      "Completed:    ./redundancy_check_for_existing_runs\\nsga-steadystate-seed4.des\n",
      "Completed:    ./redundancy_check_for_existing_runs\\nsga-steadystate-seed5.des\n"
     ]
    }
   ],
   "source": [
    "files = glob(\"./redundancy_check_for_existing_runs/*.des\")\n",
    "\n",
    "df_red = pd.DataFrame(columns=['File Name','Logic Repeated(% of actual runs)','Logic Repeated(% of total)',\n",
    "                               'Conventional Repeated(% of total)','Overall Repeated(% of total)'])\n",
    "df_red['File Name'] = pd.Series(files)\n",
    "\n",
    "def get_label_line(des_file):\n",
    "    f = open(des_file,'rb')\n",
    "    lines = f.readlines()\n",
    "    line_end = len(lines)\n",
    "    \n",
    "    start_table = 0\n",
    "    \n",
    "    # Find the line with variable names\n",
    "    for i in range(len(lines)):\n",
    "        line_tmp = lines[i].split()\n",
    "\n",
    "        try:\n",
    "            if line_tmp[0]=='<ID>':\n",
    "                label_line = line_tmp\n",
    "                start_table = i+1\n",
    "                break\n",
    "        except:\n",
    "            pass\n",
    "        \n",
    "    return label_line,start_table\n",
    "        \n",
    "\n",
    "# Function to collect final component layers\n",
    "def get_component_layers(key,n,line,pos):\n",
    "    comp = line[pos[key]:pos[key]+n[key]]\n",
    "    comp = [str(int(float(k))) for k in comp]\n",
    "    comp = \"\".join(comp)\n",
    "    return comp\n",
    "\n",
    "def get_layer(n,line,pos,variable=variable):\n",
    "    # Get component final layers\n",
    "    comps = [get_component_layers(x,n,line,pos) for x in variable]\n",
    "    return comps\n",
    "            \n",
    "    \n",
    "for des_file in files:\n",
    "    \n",
    "    df1 = pd.DataFrame(columns=variable)\n",
    "    \n",
    "    label_line,start_table = get_label_line(des_file)\n",
    "    \n",
    "    f = open(des_file,'rb')\n",
    "    lines = f.readlines()\n",
    "    line_end = len(lines)\n",
    "    \n",
    "    # Create a position dictionary for starting point of the component layer\n",
    "    start_pos = [label_line.index(x + '[0]') for x in variable]\n",
    "    pos_dict = dict(zip(variable,start_pos))\n",
    "    \n",
    "    \n",
    "    # Find the line with variable names\n",
    "    for i in range(start_table,line_end):\n",
    "        line = lines[i].split()\n",
    "\n",
    "        # Create a layer_size position dict\n",
    "        layer_size = [int(float(line[label_line.index(x)])) for x in layer_name]\n",
    "        layer_dict = dict(zip(variable,layer_size))\n",
    "        \n",
    "        layer = get_layer(layer_dict,line,pos_dict)\n",
    "        \n",
    "        df_tmp = pd.DataFrame([layer],columns=variable)\n",
    "        df1 = df1.append(df_tmp,ignore_index=True)\n",
    "        \n",
    "    rep = df1[df1.duplicated(keep='first')].shape[0]\n",
    "    rep_perc = rep*100./(df1.shape[0])\n",
    "    df_red['Logic Repeated(% of actual runs)'][df_red['File Name'] == des_file] = rep_perc\n",
    "    df_red['Logic Repeated(% of total)'][df_red['File Name'] == des_file] = rep*100/4800.\n",
    "    \n",
    "    conv_rep = 4800 - df1.shape[0]\n",
    "    df_red['Conventional Repeated(% of total)'][df_red['File Name']== des_file] = conv_rep*100/4800.\n",
    "    \n",
    "    overall_rep_perc = (conv_rep + rep)*100/4800. \n",
    "    df_red['Overall Repeated(% of total)'][df_red['File Name']== des_file] = overall_rep_perc \n",
    "        \n",
    "    print(\"Completed:    %s\"%des_file)    \n",
    "    \n",
    "df_red.to_csv(\"redundancy_check_for_existing_runs.csv\",index=False)"
   ]
  },
  {
   "cell_type": "code",
   "execution_count": 32,
   "metadata": {
    "collapsed": false
   },
   "outputs": [],
   "source": [
    "cc = ['Logic Repeated(% of total)','Conventional Repeated(% of total)','Overall Repeated(% of total)']"
   ]
  },
  {
   "cell_type": "code",
   "execution_count": 19,
   "metadata": {
    "collapsed": false
   },
   "outputs": [],
   "source": [
    "df_red = pd.read_csv(\"./redundancy_check_for_existing_runs.csv\")"
   ]
  },
  {
   "cell_type": "raw",
   "metadata": {},
   "source": [
    "df_red[cc]"
   ]
  },
  {
   "cell_type": "code",
   "execution_count": 33,
   "metadata": {
    "collapsed": false
   },
   "outputs": [
    {
     "data": {
      "text/html": [
       "<div>\n",
       "<style>\n",
       "    .dataframe thead tr:only-child th {\n",
       "        text-align: right;\n",
       "    }\n",
       "\n",
       "    .dataframe thead th {\n",
       "        text-align: left;\n",
       "    }\n",
       "\n",
       "    .dataframe tbody tr th {\n",
       "        vertical-align: top;\n",
       "    }\n",
       "</style>\n",
       "<table border=\"1\" class=\"dataframe\">\n",
       "  <thead>\n",
       "    <tr style=\"text-align: right;\">\n",
       "      <th></th>\n",
       "      <th>File Name</th>\n",
       "      <th>Logic Repeated(% of actual runs)</th>\n",
       "      <th>Logic Repeated(% of total)</th>\n",
       "      <th>Conventional Repeated(% of total)</th>\n",
       "      <th>Overall Repeated(% of total)</th>\n",
       "    </tr>\n",
       "  </thead>\n",
       "  <tbody>\n",
       "    <tr>\n",
       "      <th>10</th>\n",
       "      <td>./redundancy_check_for_existing_runs\\nsga-gene...</td>\n",
       "      <td>14.650538</td>\n",
       "      <td>9.083333</td>\n",
       "      <td>38.000000</td>\n",
       "      <td>47.083333</td>\n",
       "    </tr>\n",
       "    <tr>\n",
       "      <th>11</th>\n",
       "      <td>./redundancy_check_for_existing_runs\\nsga-gene...</td>\n",
       "      <td>24.187832</td>\n",
       "      <td>17.062500</td>\n",
       "      <td>29.458333</td>\n",
       "      <td>46.520833</td>\n",
       "    </tr>\n",
       "    <tr>\n",
       "      <th>12</th>\n",
       "      <td>./redundancy_check_for_existing_runs\\nsga-gene...</td>\n",
       "      <td>17.007673</td>\n",
       "      <td>11.083333</td>\n",
       "      <td>34.833333</td>\n",
       "      <td>45.916667</td>\n",
       "    </tr>\n",
       "    <tr>\n",
       "      <th>13</th>\n",
       "      <td>./redundancy_check_for_existing_runs\\nsga-gene...</td>\n",
       "      <td>19.599109</td>\n",
       "      <td>12.833333</td>\n",
       "      <td>34.520833</td>\n",
       "      <td>47.354167</td>\n",
       "    </tr>\n",
       "    <tr>\n",
       "      <th>14</th>\n",
       "      <td>./redundancy_check_for_existing_runs\\nsga-gene...</td>\n",
       "      <td>12.563613</td>\n",
       "      <td>8.229167</td>\n",
       "      <td>34.500000</td>\n",
       "      <td>42.729167</td>\n",
       "    </tr>\n",
       "  </tbody>\n",
       "</table>\n",
       "</div>"
      ],
      "text/plain": [
       "                                            File Name  \\\n",
       "10  ./redundancy_check_for_existing_runs\\nsga-gene...   \n",
       "11  ./redundancy_check_for_existing_runs\\nsga-gene...   \n",
       "12  ./redundancy_check_for_existing_runs\\nsga-gene...   \n",
       "13  ./redundancy_check_for_existing_runs\\nsga-gene...   \n",
       "14  ./redundancy_check_for_existing_runs\\nsga-gene...   \n",
       "\n",
       "    Logic Repeated(% of actual runs)  Logic Repeated(% of total)  \\\n",
       "10                         14.650538                    9.083333   \n",
       "11                         24.187832                   17.062500   \n",
       "12                         17.007673                   11.083333   \n",
       "13                         19.599109                   12.833333   \n",
       "14                         12.563613                    8.229167   \n",
       "\n",
       "    Conventional Repeated(% of total)  Overall Repeated(% of total)  \n",
       "10                          38.000000                     47.083333  \n",
       "11                          29.458333                     46.520833  \n",
       "12                          34.833333                     45.916667  \n",
       "13                          34.520833                     47.354167  \n",
       "14                          34.500000                     42.729167  "
      ]
     },
     "execution_count": 33,
     "metadata": {},
     "output_type": "execute_result"
    }
   ],
   "source": [
    "df_red.loc[10:14]"
   ]
  },
  {
   "cell_type": "code",
   "execution_count": null,
   "metadata": {
    "collapsed": true
   },
   "outputs": [],
   "source": []
  }
 ],
 "metadata": {
  "kernelspec": {
   "display_name": "Python 2",
   "language": "python",
   "name": "python2"
  },
  "language_info": {
   "codemirror_mode": {
    "name": "ipython",
    "version": 2
   },
   "file_extension": ".py",
   "mimetype": "text/x-python",
   "name": "python",
   "nbconvert_exporter": "python",
   "pygments_lexer": "ipython2",
   "version": "2.7.13"
  }
 },
 "nbformat": 4,
 "nbformat_minor": 0
}
