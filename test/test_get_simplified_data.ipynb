{
 "cells": [
  {
   "cell_type": "code",
   "execution_count": 1,
   "metadata": {
    "collapsed": false
   },
   "outputs": [],
   "source": [
    "import pandas as pd\n",
    "import numpy as np\n",
    "import sys\n",
    "sys.path.append(\"..\")\n",
    "import matplotlib.pyplot as plt\n",
    "%matplotlib inline\n",
    "\n",
    "from data.scripts.simplified_finance_stats.fin_stats import fin_stats\n",
    "from data.scripts.simplified_finance_stats.fin_ratios import get_ratios\n",
    "from data.scripts.simplified_finance_stats.fin_stats_2 import fin_stats_2\n",
    "from report_13f.brk.company_13f import company_13f\n",
    "from data.scripts.build_training_data.train_data import train_data\n",
    "from data.scripts.simplified_finance_stats.stock_stats import stock_stats\n",
    "\n",
    "pd.options.display.max_rows = 999"
   ]
  },
  {
   "cell_type": "code",
   "execution_count": 2,
   "metadata": {
    "collapsed": true
   },
   "outputs": [],
   "source": [
    "# Set path for data\n",
    "base_path = '../data/'\n",
    "sheets_path = 'combined_simplified/combined_all_us.csv' \n",
    "other_path = 'combined_simplified/others_all_us.csv'\n",
    "mkt_path = 'combined_simplified/stock_stats_all_us.csv'"
   ]
  },
  {
   "cell_type": "code",
   "execution_count": 3,
   "metadata": {
    "collapsed": false
   },
   "outputs": [
    {
     "name": "stdout",
     "output_type": "stream",
     "text": [
      "Total Missing tickers: 181\n",
      "Total Missing tickers: 181\n",
      "Total Missing tickers: 181\n"
     ]
    }
   ],
   "source": [
    "# setup all data\n",
    "finances = fin_stats(base_path + sheets_path)\n",
    "fin_others = fin_stats_2(base_path + other_path)\n",
    "mkt_data = stock_stats(base_path + mkt_path)"
   ]
  },
  {
   "cell_type": "code",
   "execution_count": null,
   "metadata": {
    "collapsed": false
   },
   "outputs": [],
   "source": [
    "fb_b = finances.get_sheet(\"FB\",\"balance_sheet\")\n",
    "fb_i = finances.get_sheet(\"FB\",\"income_sheet\")\n",
    "fb_c = finances.get_sheet(\"FB\",\"cashflow_sheet\")"
   ]
  },
  {
   "cell_type": "code",
   "execution_count": null,
   "metadata": {
    "collapsed": false
   },
   "outputs": [],
   "source": [
    "o = fin_others"
   ]
  },
  {
   "cell_type": "code",
   "execution_count": null,
   "metadata": {
    "collapsed": false
   },
   "outputs": [],
   "source": [
    "fb_o = o.get_sheet('AAPL')"
   ]
  },
  {
   "cell_type": "code",
   "execution_count": null,
   "metadata": {
    "collapsed": false
   },
   "outputs": [],
   "source": [
    "fb_m = mkt_data.get_stock_data('FB')"
   ]
  },
  {
   "cell_type": "code",
   "execution_count": null,
   "metadata": {
    "collapsed": false
   },
   "outputs": [],
   "source": [
    "fb_m.head()"
   ]
  },
  {
   "cell_type": "code",
   "execution_count": null,
   "metadata": {
    "collapsed": false
   },
   "outputs": [],
   "source": [
    "fb_i.index"
   ]
  },
  {
   "cell_type": "code",
   "execution_count": null,
   "metadata": {
    "collapsed": true
   },
   "outputs": [],
   "source": []
  },
  {
   "cell_type": "code",
   "execution_count": null,
   "metadata": {
    "collapsed": false
   },
   "outputs": [],
   "source": [
    "aapl_fin_stats = pd.concat([aapl_b,aapl_i,aapl_c,aapl_o])"
   ]
  },
  {
   "cell_type": "code",
   "execution_count": null,
   "metadata": {
    "collapsed": false
   },
   "outputs": [],
   "source": [
    "aapl_ratio = get_ratios(aapl_b,aapl_i,aapl_c)"
   ]
  },
  {
   "cell_type": "code",
   "execution_count": null,
   "metadata": {
    "collapsed": true
   },
   "outputs": [],
   "source": [
    "aapl_df = pd.concat([aapl_fin_stats,aapl_ratio])"
   ]
  },
  {
   "cell_type": "code",
   "execution_count": null,
   "metadata": {
    "collapsed": false
   },
   "outputs": [],
   "source": [
    "aapl_T = aapl_df.transpose()\n",
    "y = aapl_T.as_matrix()\n",
    "x = np.array(aapl_T.index.tolist())\n",
    "\n",
    "    "
   ]
  },
  {
   "cell_type": "code",
   "execution_count": null,
   "metadata": {
    "collapsed": false
   },
   "outputs": [],
   "source": [
    "p = np.polyfit(x,y,3)\n"
   ]
  },
  {
   "cell_type": "code",
   "execution_count": null,
   "metadata": {
    "collapsed": false
   },
   "outputs": [],
   "source": []
  },
  {
   "cell_type": "code",
   "execution_count": null,
   "metadata": {
    "collapsed": false
   },
   "outputs": [],
   "source": [
    "for i,feature in enumerate(aapl_T.columns.tolist()):\n",
    "    \n",
    "    real = aapl_T[feature].values\n",
    "    pred = p[0,i]*x**3 + p[1,i]*x**2 + p[2,i]*x + p[3,i]\n",
    "\n",
    "    plt.plot(x,real,'-',label='Real')\n",
    "    plt.plot(x,pred,'--',label='Predicted')\n",
    "    plt.plot(x,pred,'.',label='Pred Points')\n",
    "    plt.title(feature)\n",
    "    plt.xlabel('Years')\n",
    "    plt.legend()\n",
    "    plt.savefig(\"./test_plots/\" + feature + \".jpg\")\n",
    "    plt.clf()\n",
    "   \n",
    "    "
   ]
  },
  {
   "cell_type": "code",
   "execution_count": null,
   "metadata": {
    "collapsed": false
   },
   "outputs": [],
   "source": [
    "# Get company timeline"
   ]
  },
  {
   "cell_type": "code",
   "execution_count": null,
   "metadata": {
    "collapsed": false
   },
   "outputs": [],
   "source": [
    "from data.scripts.company_list.company_timeline import company_timeline as ct"
   ]
  },
  {
   "cell_type": "code",
   "execution_count": null,
   "metadata": {
    "collapsed": false
   },
   "outputs": [],
   "source": [
    "p = '../data/cash_flow/cash_flow_all_us_list.csv'\n",
    "c = ct(p)"
   ]
  },
  {
   "cell_type": "code",
   "execution_count": null,
   "metadata": {
    "collapsed": false
   },
   "outputs": [],
   "source": [
    "c.get_timeline('AAPL')"
   ]
  },
  {
   "cell_type": "code",
   "execution_count": null,
   "metadata": {
    "collapsed": false
   },
   "outputs": [],
   "source": [
    "code = \"D:\\\\FA\\\\report_13f\\\\brk\\\\company_13f.py\"\n",
    "%run $code"
   ]
  },
  {
   "cell_type": "code",
   "execution_count": null,
   "metadata": {
    "collapsed": false
   },
   "outputs": [],
   "source": [
    "isinstance('abc',str)"
   ]
  },
  {
   "cell_type": "code",
   "execution_count": null,
   "metadata": {
    "collapsed": false
   },
   "outputs": [],
   "source": [
    "# Test train_data.py"
   ]
  },
  {
   "cell_type": "code",
   "execution_count": null,
   "metadata": {
    "collapsed": false
   },
   "outputs": [],
   "source": [
    "brk_path = \"D:\\\\FA\\\\report_13f\\\\brk\\\\13f_brk.csv\"\n",
    "c = company_13f(brk_path)\n",
    "y_2016 = c.get_positive(2016)\n",
    "\n",
    "t_data = train_data(y_2016)\n",
    "\n",
    "inp_data_10 = t_data.get_hist_data(10)\n",
    "\n",
    "names,data = t_data.transform_c_to_1d(inp_data_10)"
   ]
  },
  {
   "cell_type": "code",
   "execution_count": null,
   "metadata": {
    "collapsed": false
   },
   "outputs": [],
   "source": [
    "code_tdata = \"D:\\\\FA\\\\data\\\\scripts\\\\build_training_data\\\\train_data.py\"\n",
    "%run $code_tdata"
   ]
  },
  {
   "cell_type": "code",
   "execution_count": null,
   "metadata": {
    "collapsed": false
   },
   "outputs": [],
   "source": [
    "p  = \"D:\\\\FA\\\\data\\\\stock_stats\\\\stock_stats.csv\"\n",
    "sd = stock_stats(p)\n",
    "aapl_st = sd.get_stock_data(\"WFC\")"
   ]
  },
  {
   "cell_type": "code",
   "execution_count": null,
   "metadata": {
    "collapsed": false
   },
   "outputs": [],
   "source": []
  },
  {
   "cell_type": "code",
   "execution_count": null,
   "metadata": {
    "collapsed": false
   },
   "outputs": [],
   "source": []
  },
  {
   "cell_type": "code",
   "execution_count": null,
   "metadata": {
    "collapsed": false
   },
   "outputs": [],
   "source": [
    "import seaborn as sns\n",
    "sns.set(font_scale=1.2)"
   ]
  },
  {
   "cell_type": "code",
   "execution_count": null,
   "metadata": {
    "collapsed": false
   },
   "outputs": [],
   "source": [
    "cols = list(np.linspace(2007,2016,10))"
   ]
  },
  {
   "cell_type": "code",
   "execution_count": null,
   "metadata": {
    "collapsed": false
   },
   "outputs": [],
   "source": [
    "cols = [int(x) for x in cols]"
   ]
  },
  {
   "cell_type": "code",
   "execution_count": null,
   "metadata": {
    "collapsed": false
   },
   "outputs": [],
   "source": [
    "xx = aapl_b[cols].copy()\n",
    "xx = xx.drop(['ivaeq','ivao','dlc','dltt','mib','pstk','txp'])"
   ]
  },
  {
   "cell_type": "code",
   "execution_count": null,
   "metadata": {
    "collapsed": false
   },
   "outputs": [],
   "source": [
    "plt.figure(figsize=(20,10))\n",
    "sns.heatmap(xx,annot=True,fmt='1.0f',cmap=\"Greens\",cbar=False)\n",
    "plt.savefig(\"del_me.png\")"
   ]
  },
  {
   "cell_type": "code",
   "execution_count": null,
   "metadata": {
    "collapsed": false
   },
   "outputs": [],
   "source": [
    "xx = xx.astype('int')\n",
    "xx.head()"
   ]
  },
  {
   "cell_type": "code",
   "execution_count": null,
   "metadata": {
    "collapsed": false
   },
   "outputs": [],
   "source": [
    "xx.index"
   ]
  },
  {
   "cell_type": "code",
   "execution_count": null,
   "metadata": {
    "collapsed": true
   },
   "outputs": [],
   "source": []
  }
 ],
 "metadata": {
  "kernelspec": {
   "display_name": "Python 2",
   "language": "python",
   "name": "python2"
  },
  "language_info": {
   "codemirror_mode": {
    "name": "ipython",
    "version": 2
   },
   "file_extension": ".py",
   "mimetype": "text/x-python",
   "name": "python",
   "nbconvert_exporter": "python",
   "pygments_lexer": "ipython2",
   "version": "2.7.13"
  }
 },
 "nbformat": 4,
 "nbformat_minor": 0
}
