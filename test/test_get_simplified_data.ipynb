{
 "cells": [
  {
   "cell_type": "code",
   "execution_count": null,
   "metadata": {
    "collapsed": false
   },
   "outputs": [],
   "source": [
    "import pandas as pd\n",
    "import numpy as np\n",
    "import sys\n",
    "sys.path.append(\"..\")\n",
    "import matplotlib.pyplot as plt\n",
    "%matplotlib inline\n",
    "\n",
    "from data.scripts.simplified_finance_stats.fin_stats import fin_stats\n",
    "from data.scripts.simplified_finance_stats.fin_ratios import get_ratios\n",
    "from data.scripts.simplified_finance_stats.fin_stats_2 import fin_stats_2\n",
    "\n",
    "pd.options.display.max_rows = 999"
   ]
  },
  {
   "cell_type": "code",
   "execution_count": null,
   "metadata": {
    "collapsed": true
   },
   "outputs": [],
   "source": [
    "# Set path for data\n",
    "base_path = '../data/'\n",
    "data_path = 'combined_simplified/combined_all_us.csv' "
   ]
  },
  {
   "cell_type": "code",
   "execution_count": null,
   "metadata": {
    "collapsed": true
   },
   "outputs": [],
   "source": [
    "# setup all data\n",
    "finances = fin_stats(base_path + data_path)"
   ]
  },
  {
   "cell_type": "code",
   "execution_count": null,
   "metadata": {
    "collapsed": false
   },
   "outputs": [],
   "source": [
    "aapl_b = finances.get_sheet(\"AAPL\",\"balance_sheet\")\n",
    "aapl_i = finances.get_sheet(\"AAPL\",\"income_sheet\")\n",
    "aapl_c = finances.get_sheet(\"AAPL\",\"cashflow_sheet\")"
   ]
  },
  {
   "cell_type": "code",
   "execution_count": null,
   "metadata": {
    "collapsed": false
   },
   "outputs": [],
   "source": [
    "o = fin_stats_2(base_path + 'combined_simplified/others_all_us.csv')"
   ]
  },
  {
   "cell_type": "code",
   "execution_count": null,
   "metadata": {
    "collapsed": false
   },
   "outputs": [],
   "source": [
    "aapl_o = o.get_sheet('AAPL')"
   ]
  },
  {
   "cell_type": "code",
   "execution_count": null,
   "metadata": {
    "collapsed": false
   },
   "outputs": [],
   "source": [
    "aapl_fin_stats = pd.concat([aapl_b,aapl_i,aapl_c,aapl_o])"
   ]
  },
  {
   "cell_type": "code",
   "execution_count": null,
   "metadata": {
    "collapsed": false
   },
   "outputs": [],
   "source": [
    "aapl_ratio = get_ratios(aapl_b,aapl_i,aapl_c)"
   ]
  },
  {
   "cell_type": "code",
   "execution_count": null,
   "metadata": {
    "collapsed": true
   },
   "outputs": [],
   "source": [
    "aapl_df = pd.concat([aapl_fin_stats,aapl_ratio])"
   ]
  },
  {
   "cell_type": "code",
   "execution_count": null,
   "metadata": {
    "collapsed": false
   },
   "outputs": [],
   "source": [
    "aapl_T = aapl_df.transpose()\n",
    "y = aapl_T.as_matrix()\n",
    "x = np.array(aapl_T.index.tolist())\n",
    "y\n",
    "    "
   ]
  },
  {
   "cell_type": "code",
   "execution_count": null,
   "metadata": {
    "collapsed": false
   },
   "outputs": [],
   "source": [
    "p = np.polyfit(x,y,3)\n"
   ]
  },
  {
   "cell_type": "code",
   "execution_count": null,
   "metadata": {
    "collapsed": false
   },
   "outputs": [],
   "source": [
    "for i,feature in enumerate(aapl_T.columns.tolist()):\n",
    "    \n",
    "    real = aapl_T[feature].values\n",
    "    pred = p[0,i]*x**3 + p[1,i]*x**2 + p[2,i]*x + p[3,i]\n",
    "\n",
    "    plt.plot(x,real,'-',label='Real')\n",
    "    plt.plot(x,pred,'--',label='Predicted')\n",
    "    plt.plot(x,pred,'.',label='Pred Points')\n",
    "    plt.title(feature)\n",
    "    plt.xlabel('Years')\n",
    "    plt.legend()\n",
    "    plt.savefig(\"./test_plots/\" + feature + \".jpg\")\n",
    "    plt.clf()\n",
    "   \n",
    "    "
   ]
  },
  {
   "cell_type": "code",
   "execution_count": null,
   "metadata": {
    "collapsed": false
   },
   "outputs": [],
   "source": [
    "# Get company timeline"
   ]
  },
  {
   "cell_type": "code",
   "execution_count": null,
   "metadata": {
    "collapsed": false
   },
   "outputs": [],
   "source": [
    "from data.scripts.company_list.company_timeline import company_timeline as ct"
   ]
  },
  {
   "cell_type": "code",
   "execution_count": null,
   "metadata": {
    "collapsed": false
   },
   "outputs": [],
   "source": [
    "p = '../data/cash_flow/cash_flow_all_us_list.csv'\n",
    "c = ct(p)"
   ]
  },
  {
   "cell_type": "code",
   "execution_count": null,
   "metadata": {
    "collapsed": false
   },
   "outputs": [],
   "source": [
    "c.get_timeline('AAPL')"
   ]
  },
  {
   "cell_type": "code",
   "execution_count": null,
   "metadata": {
    "collapsed": false
   },
   "outputs": [],
   "source": []
  },
  {
   "cell_type": "code",
   "execution_count": null,
   "metadata": {
    "collapsed": false
   },
   "outputs": [],
   "source": [
    "code = \"D:\\\\FA\\\\13f\\\\brk\\\\company_13f.py\"\n"
   ]
  },
  {
   "cell_type": "code",
   "execution_count": 32,
   "metadata": {
    "collapsed": false
   },
   "outputs": [
    {
     "name": "stdout",
     "output_type": "stream",
     "text": [
      "'[1966 1967 1968 1969 1970 1971 1972 1973 1974 1975 1976 1977 1978 1979] not in index'\n",
      "Data range requested 1966 to 2016\n",
      "Data only available from 1980\n",
      "\n",
      "\n",
      "'[1966 1967 1968] not in index'\n",
      "Data range requested 1966 to 2016\n",
      "Data only available from 1969\n",
      "\n",
      "\n",
      "'[1966 1967 1968 1969 1970 1971 1972 1973 1974 1975 1976 1977 1978 1979 1980\\n 1981 1982 1983 1984 1985 1986 1987 1988 1989 1990 1991 1992 1993 1994 1995\\n 1996 1997] not in index'\n",
      "Data range requested 1966 to 2016\n",
      "Data only available from 1998\n",
      "\n",
      "\n",
      "'[1966 1967 1994 1995 1996 1997 1998] not in index'\n",
      "Data range requested 1966 to 2016\n",
      "Data only available from 1968\n",
      "\n",
      "\n",
      "'[1966 1967 1994 1995 1996 1997 1998] not in index'\n",
      "Data range requested 1966 to 2016\n",
      "Data only available from 1968\n",
      "\n",
      "\n",
      "'[1966 1967 1994 1995 1996 1997 1998] not in index'\n",
      "Data range requested 1966 to 2016\n",
      "Data only available from 1968\n",
      "\n",
      "\n",
      "'[1966 1967 1968 1969 1970 1971 1972 1973 1974 1975 1976 1977 1978 1979 1980\\n 1981 1982 1983 1984 1985 1986 1987 1988 1989 1990 1991 1992 1993 1994 1995\\n 1996 1997 1998 1999 2000 2001 2002 2003 2004 2005] not in index'\n",
      "Data range requested 1966 to 2016\n",
      "Data only available from 2006\n",
      "\n",
      "\n",
      "'[1966 1967 1968 1969 1970 1971 1972 1973 1974 1975 1976 1977 1978 1979] not in index'\n",
      "Data range requested 1966 to 2016\n",
      "Data only available from 1980\n",
      "\n",
      "\n",
      "'[1966 1967 1968 1969 1970 1971 1972 1973 1974 1975 1976 1977 1978 1979] not in index'\n",
      "Data range requested 1966 to 2016\n",
      "Data only available from 1980\n",
      "\n",
      "\n",
      "'[1966 1967 1994 1995 1996 1997 1998] not in index'\n",
      "Data range requested 1966 to 2016\n",
      "Data only available from 1968\n",
      "\n",
      "\n",
      "'[1966 1967 1994 1995 1996 1997 1998] not in index'\n",
      "Data range requested 1966 to 2016\n",
      "Data only available from 1968\n",
      "\n",
      "\n",
      "'[1966 1967 1994 1995 1996 1997 1998] not in index'\n",
      "Data range requested 1966 to 2016\n",
      "Data only available from 1968\n",
      "\n",
      "\n",
      "'[1966 1967 1994 1995 1996 1997 1998] not in index'\n",
      "Data range requested 1966 to 2016\n",
      "Data only available from 1968\n",
      "\n",
      "\n",
      "'[1966 1967 1994 1995 1996 1997 1998] not in index'\n",
      "Data range requested 1966 to 2016\n",
      "Data only available from 1968\n",
      "\n",
      "\n",
      "'[1966 1967 1994 1995 1996 1997 1998] not in index'\n",
      "Data range requested 1966 to 2016\n",
      "Data only available from 1968\n",
      "\n",
      "\n",
      "'[1966 1967 1994 1995 1996 1997 1998] not in index'\n",
      "Data range requested 1966 to 2016\n",
      "Data only available from 1968\n",
      "\n",
      "\n",
      "'[1966 1967 1994 1995 1996 1997 1998] not in index'\n",
      "Data range requested 1966 to 2016\n",
      "Data only available from 1968\n",
      "\n",
      "\n",
      "'[1966 1967 1994 1995 1996 1997 1998] not in index'\n",
      "Data range requested 1966 to 2016\n",
      "Data only available from 1968\n",
      "\n",
      "\n",
      "'[1966 1967 1994 1995 1996 1997 1998] not in index'\n",
      "Data range requested 1966 to 2016\n",
      "Data only available from 1968\n",
      "\n",
      "\n",
      "'[1966 1967 1994 1995 1996 1997 1998] not in index'\n",
      "Data range requested 1966 to 2016\n",
      "Data only available from 1968\n",
      "\n",
      "\n",
      "'[1966 1967 1968 1969 1970 1971 1972 1973 1974 1975 1976 1977 1978 1979] not in index'\n",
      "Data range requested 1966 to 2016\n",
      "Data only available from 1980\n",
      "\n",
      "\n",
      "'[1966 1967 1968] not in index'\n",
      "Data range requested 1966 to 2016\n",
      "Data only available from 1969\n",
      "\n",
      "\n",
      "'[1966 1967 1968 1969 1970 1971 1972 1973 1974 1975 1976 1977 1978 1979 1980\\n 1981 1982 1983 1984 1985 1986 1987 1988 1989 1990 1991 1992 1993 1994 1995\\n 1996 1997] not in index'\n",
      "Data range requested 1966 to 2016\n",
      "Data only available from 1998\n",
      "\n",
      "\n",
      "'[1966 1967 1994 1995 1996 1997 1998] not in index'\n",
      "Data range requested 1966 to 2016\n",
      "Data only available from 1968\n",
      "\n",
      "\n",
      "'[1966 1967 1968 1969 1970] not in index'\n",
      "Data range requested 1966 to 2016\n",
      "Data only available from 1971\n",
      "\n",
      "\n"
     ]
    }
   ],
   "source": [
    "code_tdata = \"D:\\\\FA\\\\data\\\\scripts\\\\build_training_data\\\\train_data.py\"\n",
    "%run $code_tdata"
   ]
  },
  {
   "cell_type": "code",
   "execution_count": null,
   "metadata": {
    "collapsed": true
   },
   "outputs": [],
   "source": []
  }
 ],
 "metadata": {
  "kernelspec": {
   "display_name": "Python 2",
   "language": "python",
   "name": "python2"
  },
  "language_info": {
   "codemirror_mode": {
    "name": "ipython",
    "version": 2
   },
   "file_extension": ".py",
   "mimetype": "text/x-python",
   "name": "python",
   "nbconvert_exporter": "python",
   "pygments_lexer": "ipython2",
   "version": "2.7.13"
  }
 },
 "nbformat": 4,
 "nbformat_minor": 0
}
