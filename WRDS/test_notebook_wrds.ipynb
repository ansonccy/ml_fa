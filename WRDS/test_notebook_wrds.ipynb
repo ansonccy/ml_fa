{
 "cells": [
  {
   "cell_type": "code",
   "execution_count": 1,
   "metadata": {
    "collapsed": true
   },
   "outputs": [],
   "source": [
    "import wrds\n",
    "import pandas as pd\n",
    "import datetime\n",
    "import numpy as np\n",
    "import pickle\n",
    "from time import time"
   ]
  },
  {
   "cell_type": "code",
   "execution_count": null,
   "metadata": {
    "collapsed": false
   },
   "outputs": [],
   "source": [
    "db = wrds.Connection()"
   ]
  },
  {
   "cell_type": "code",
   "execution_count": null,
   "metadata": {
    "collapsed": true
   },
   "outputs": [],
   "source": [
    "q = (\"select a.gvkey,a.latest,b.cshoq,b.prccq,b.mkvaltq,b.cshoq*b.prccq as market_cap,b.curcdq \"\n",
    "     \"from \"\n",
    "        \"(select gvkey,max(datadate) as latest \"\n",
    "         \"from \"\n",
    "         \"compm.fundq where datadate > '2017-01-01' \" \n",
    "         \"group by gvkey) a inner join \"\n",
    "             \"(select gvkey,datadate,mkvaltq,cshoq,prccq,curcdq \"\n",
    "                \"from compm.fundq where cshoq>0 and prccq>0 and curcdq='USD') b \"\n",
    "    \"on a.gvkey = b.gvkey and a.latest=b.datadate \"\n",
    "     \"order by market_cap desc \"\n",
    "    \"limit 100\")"
   ]
  },
  {
   "cell_type": "code",
   "execution_count": null,
   "metadata": {
    "collapsed": false
   },
   "outputs": [],
   "source": [
    "a = db.raw_sql(q)\n",
    "top_2000_eq_gvkey = a['gvkey'].values.tolist()\n",
    "top_2000_eq_gvkey = tuple([\"'%s'\"%str(i) for i in top_2000_eq_gvkey])\n",
    "top_2000_eq_gvkey = \",\".join(top_2000_eq_gvkey)"
   ]
  },
  {
   "cell_type": "code",
   "execution_count": null,
   "metadata": {
    "collapsed": false,
    "scrolled": true
   },
   "outputs": [],
   "source": [
    "q2 = (\"select datadate,gvkey,tic,saleq,cogsq,xsgaq,oiadpq,niq,\"\n",
    "      \"cheq, rectq, invtq, acoq, ppentq, aoq, dlcq, apq, txpq, lcoq, ltq, dlttq,cshoq \"\n",
    "    \"from compm.fundq \"\n",
    "     \"where gvkey in (%s) \")%top_2000_eq_gvkey\n",
    "c = db.raw_sql(q2)\n",
    "c.shape"
   ]
  },
  {
   "cell_type": "code",
   "execution_count": null,
   "metadata": {
    "collapsed": false
   },
   "outputs": [],
   "source": [
    "blnc_sheet_list = ['cheq','rectq','invtq','acoq','ppentq','aoq',\n",
    "                                'dlcq','apq','txpq','lcoq','ltq','dlttq','cshoq']\n",
    "mqr_list = [x + '_mqr' for x in blnc_sheet_list]"
   ]
  },
  {
   "cell_type": "code",
   "execution_count": null,
   "metadata": {
    "collapsed": false
   },
   "outputs": [],
   "source": [
    "income_list = ['saleq','cogsq','xsgaq','oiadpq','niq']\n",
    "x = c[['gvkey','datadate'] + income_list + blnc_sheet_list]\n",
    "x = x[x['gvkey'] == '006066']\n",
    "x.sort_values('datadate').head()"
   ]
  },
  {
   "cell_type": "code",
   "execution_count": null,
   "metadata": {
    "collapsed": false,
    "scrolled": false
   },
   "outputs": [],
   "source": [
    "t1 = time()\n",
    "%run wrds_data_processing.py\n",
    "print time()-t1"
   ]
  },
  {
   "cell_type": "code",
   "execution_count": null,
   "metadata": {
    "collapsed": false
   },
   "outputs": [],
   "source": [
    "qq = (\"select gvkey,datadate,prccm \"\n",
    "     \"from compm.secm \"\n",
    "     \"where gvkey='160329' \")\n",
    "d = db.raw_sql(qq).sort_values('datadate')\n",
    "d = d.set_index('datadate')"
   ]
  },
  {
   "cell_type": "code",
   "execution_count": null,
   "metadata": {
    "collapsed": false
   },
   "outputs": [],
   "source": [
    "d.loc[datetime.date(2014,3,31)]"
   ]
  },
  {
   "cell_type": "code",
   "execution_count": null,
   "metadata": {
    "collapsed": true
   },
   "outputs": [],
   "source": [
    "qq = (\"select * \"\n",
    "     \"from compm.secm \"\n",
    "     \"where gvkey='001690' \")\n",
    "d = db.raw_sql(qq).sort_values('datadate')\n",
    "d = d.set_index('datadate')"
   ]
  },
  {
   "cell_type": "code",
   "execution_count": null,
   "metadata": {
    "collapsed": false
   },
   "outputs": [],
   "source": [
    "d.loc[datetime.date(2014,3,31)]"
   ]
  },
  {
   "cell_type": "code",
   "execution_count": null,
   "metadata": {
    "collapsed": true
   },
   "outputs": [],
   "source": [
    "d.to_pickle(\"prccm.pkl\")"
   ]
  },
  {
   "cell_type": "code",
   "execution_count": null,
   "metadata": {
    "collapsed": true
   },
   "outputs": [],
   "source": [
    "q5 = (\"select gvkey,datadate,split \"\n",
    "     \"from compm.sec_split \"\n",
    "     \"where gvkey='160329' \")\n",
    "e = db.raw_sql(q5).sort_values('datadate')"
   ]
  },
  {
   "cell_type": "code",
   "execution_count": null,
   "metadata": {
    "collapsed": false
   },
   "outputs": [],
   "source": [
    "e= pd.read_pickle('prccm.pkl')"
   ]
  },
  {
   "cell_type": "code",
   "execution_count": null,
   "metadata": {
    "collapsed": false
   },
   "outputs": [],
   "source": []
  },
  {
   "cell_type": "code",
   "execution_count": 1,
   "metadata": {
    "collapsed": false
   },
   "outputs": [],
   "source": [
    "from time import time"
   ]
  },
  {
   "cell_type": "code",
   "execution_count": 2,
   "metadata": {
    "collapsed": false,
    "scrolled": false
   },
   "outputs": [
    {
     "name": "stdout",
     "output_type": "stream",
     "text": [
      "Enter your WRDS username [lakshay]:dsanghi\n",
      "Enter your password:········\n",
      "WRDS recommends setting up a .pgpass file.\n",
      "You can find more info here:\n",
      "https://www.postgresql.org/docs/9.5/static/libpq-pgpass.html.\n",
      "Loading library list...\n",
      "Done\n",
      "Shape of raw dataframe: 13979,21\n",
      "\n",
      "\n",
      "153.779999971\n"
     ]
    }
   ],
   "source": [
    "t1 = time()\n",
    "%run build_data.py\n",
    "print time()-t1"
   ]
  },
  {
   "cell_type": "code",
   "execution_count": null,
   "metadata": {
    "collapsed": false
   },
   "outputs": [],
   "source": []
  },
  {
   "cell_type": "code",
   "execution_count": 4,
   "metadata": {
    "collapsed": false
   },
   "outputs": [],
   "source": [
    "y = pd.read_pickle('y.pkl')"
   ]
  },
  {
   "cell_type": "code",
   "execution_count": 9,
   "metadata": {
    "collapsed": false
   },
   "outputs": [
    {
     "data": {
      "text/html": [
       "<div>\n",
       "<table border=\"1\" class=\"dataframe\">\n",
       "  <thead>\n",
       "    <tr style=\"text-align: right;\">\n",
       "      <th></th>\n",
       "      <th>gvkey</th>\n",
       "      <th>saleq</th>\n",
       "      <th>cogsq</th>\n",
       "      <th>xsgaq</th>\n",
       "      <th>oiadpq</th>\n",
       "      <th>niq</th>\n",
       "      <th>cheq</th>\n",
       "      <th>rectq</th>\n",
       "      <th>invtq</th>\n",
       "      <th>acoq</th>\n",
       "      <th>ppentq</th>\n",
       "      <th>aoq</th>\n",
       "      <th>dlcq</th>\n",
       "      <th>apq</th>\n",
       "      <th>txpq</th>\n",
       "      <th>lcoq</th>\n",
       "      <th>ltq</th>\n",
       "      <th>dlttq</th>\n",
       "      <th>cshoq</th>\n",
       "    </tr>\n",
       "    <tr>\n",
       "      <th>datadate</th>\n",
       "      <th></th>\n",
       "      <th></th>\n",
       "      <th></th>\n",
       "      <th></th>\n",
       "      <th></th>\n",
       "      <th></th>\n",
       "      <th></th>\n",
       "      <th></th>\n",
       "      <th></th>\n",
       "      <th></th>\n",
       "      <th></th>\n",
       "      <th></th>\n",
       "      <th></th>\n",
       "      <th></th>\n",
       "      <th></th>\n",
       "      <th></th>\n",
       "      <th></th>\n",
       "      <th></th>\n",
       "      <th></th>\n",
       "    </tr>\n",
       "  </thead>\n",
       "  <tbody>\n",
       "    <tr>\n",
       "      <th>2015-06-30</th>\n",
       "      <td>006066</td>\n",
       "      <td>20813.0</td>\n",
       "      <td>9326.0</td>\n",
       "      <td>6477.0</td>\n",
       "      <td>4049.0</td>\n",
       "      <td>3449.0</td>\n",
       "      <td>8760.0</td>\n",
       "      <td>27911.0</td>\n",
       "      <td>1912.0</td>\n",
       "      <td>6603.0</td>\n",
       "      <td>10702.0</td>\n",
       "      <td>56841.0</td>\n",
       "      <td>5329.0</td>\n",
       "      <td>5943.0</td>\n",
       "      <td>3639.0</td>\n",
       "      <td>20624.0</td>\n",
       "      <td>98892.0</td>\n",
       "      <td>33340.0</td>\n",
       "      <td>979.530</td>\n",
       "    </tr>\n",
       "    <tr>\n",
       "      <th>2015-09-30</th>\n",
       "      <td>006066</td>\n",
       "      <td>19279.0</td>\n",
       "      <td>8776.0</td>\n",
       "      <td>6015.0</td>\n",
       "      <td>3552.0</td>\n",
       "      <td>2950.0</td>\n",
       "      <td>9568.0</td>\n",
       "      <td>25113.0</td>\n",
       "      <td>1613.0</td>\n",
       "      <td>5818.0</td>\n",
       "      <td>10661.0</td>\n",
       "      <td>55875.0</td>\n",
       "      <td>7539.0</td>\n",
       "      <td>5166.0</td>\n",
       "      <td>2883.0</td>\n",
       "      <td>18144.0</td>\n",
       "      <td>95198.0</td>\n",
       "      <td>32122.0</td>\n",
       "      <td>970.110</td>\n",
       "    </tr>\n",
       "    <tr>\n",
       "      <th>2015-12-31</th>\n",
       "      <td>006066</td>\n",
       "      <td>22059.0</td>\n",
       "      <td>9530.0</td>\n",
       "      <td>6504.0</td>\n",
       "      <td>5035.0</td>\n",
       "      <td>4463.0</td>\n",
       "      <td>8194.0</td>\n",
       "      <td>28554.0</td>\n",
       "      <td>1551.0</td>\n",
       "      <td>4205.0</td>\n",
       "      <td>10727.0</td>\n",
       "      <td>57264.0</td>\n",
       "      <td>6461.0</td>\n",
       "      <td>6028.0</td>\n",
       "      <td>2847.0</td>\n",
       "      <td>18933.0</td>\n",
       "      <td>96071.0</td>\n",
       "      <td>33428.0</td>\n",
       "      <td>965.729</td>\n",
       "    </tr>\n",
       "    <tr>\n",
       "      <th>2016-03-31</th>\n",
       "      <td>006066</td>\n",
       "      <td>18685.0</td>\n",
       "      <td>8836.0</td>\n",
       "      <td>7542.0</td>\n",
       "      <td>1283.0</td>\n",
       "      <td>2014.0</td>\n",
       "      <td>14869.0</td>\n",
       "      <td>26730.0</td>\n",
       "      <td>1690.0</td>\n",
       "      <td>4334.0</td>\n",
       "      <td>10909.0</td>\n",
       "      <td>60324.0</td>\n",
       "      <td>5302.0</td>\n",
       "      <td>5302.0</td>\n",
       "      <td>2203.0</td>\n",
       "      <td>21857.0</td>\n",
       "      <td>103784.0</td>\n",
       "      <td>40255.0</td>\n",
       "      <td>959.962</td>\n",
       "    </tr>\n",
       "    <tr>\n",
       "      <th>2016-06-30</th>\n",
       "      <td>006066</td>\n",
       "      <td>20238.0</td>\n",
       "      <td>9287.0</td>\n",
       "      <td>6791.0</td>\n",
       "      <td>3057.0</td>\n",
       "      <td>2504.0</td>\n",
       "      <td>10617.0</td>\n",
       "      <td>26546.0</td>\n",
       "      <td>1685.0</td>\n",
       "      <td>4676.0</td>\n",
       "      <td>11092.0</td>\n",
       "      <td>63440.0</td>\n",
       "      <td>4887.0</td>\n",
       "      <td>5484.0</td>\n",
       "      <td>2275.0</td>\n",
       "      <td>20939.0</td>\n",
       "      <td>102167.0</td>\n",
       "      <td>39637.0</td>\n",
       "      <td>955.844</td>\n",
       "    </tr>\n",
       "    <tr>\n",
       "      <th>2016-09-30</th>\n",
       "      <td>006066</td>\n",
       "      <td>19226.0</td>\n",
       "      <td>8939.0</td>\n",
       "      <td>6126.0</td>\n",
       "      <td>3034.0</td>\n",
       "      <td>2853.0</td>\n",
       "      <td>9968.0</td>\n",
       "      <td>25196.0</td>\n",
       "      <td>1730.0</td>\n",
       "      <td>4539.0</td>\n",
       "      <td>11104.0</td>\n",
       "      <td>63069.0</td>\n",
       "      <td>6920.0</td>\n",
       "      <td>5271.0</td>\n",
       "      <td>2137.0</td>\n",
       "      <td>20119.0</td>\n",
       "      <td>98447.0</td>\n",
       "      <td>35563.0</td>\n",
       "      <td>950.855</td>\n",
       "    </tr>\n",
       "    <tr>\n",
       "      <th>2016-12-31</th>\n",
       "      <td>006066</td>\n",
       "      <td>21771.0</td>\n",
       "      <td>9606.0</td>\n",
       "      <td>6404.0</td>\n",
       "      <td>4634.0</td>\n",
       "      <td>4501.0</td>\n",
       "      <td>8527.0</td>\n",
       "      <td>29245.0</td>\n",
       "      <td>1553.0</td>\n",
       "      <td>4563.0</td>\n",
       "      <td>10830.0</td>\n",
       "      <td>62752.0</td>\n",
       "      <td>7513.0</td>\n",
       "      <td>6209.0</td>\n",
       "      <td>3235.0</td>\n",
       "      <td>19318.0</td>\n",
       "      <td>99078.0</td>\n",
       "      <td>34655.0</td>\n",
       "      <td>945.867</td>\n",
       "    </tr>\n",
       "    <tr>\n",
       "      <th>2017-03-31</th>\n",
       "      <td>006066</td>\n",
       "      <td>18155.0</td>\n",
       "      <td>9126.0</td>\n",
       "      <td>6676.0</td>\n",
       "      <td>1254.0</td>\n",
       "      <td>1750.0</td>\n",
       "      <td>10695.0</td>\n",
       "      <td>25869.0</td>\n",
       "      <td>1609.0</td>\n",
       "      <td>4715.0</td>\n",
       "      <td>10865.0</td>\n",
       "      <td>63742.0</td>\n",
       "      <td>8340.0</td>\n",
       "      <td>5324.0</td>\n",
       "      <td>2747.0</td>\n",
       "      <td>20070.0</td>\n",
       "      <td>99047.0</td>\n",
       "      <td>34441.0</td>\n",
       "      <td>939.497</td>\n",
       "    </tr>\n",
       "    <tr>\n",
       "      <th>2017-06-30</th>\n",
       "      <td>006066</td>\n",
       "      <td>19288.0</td>\n",
       "      <td>9206.0</td>\n",
       "      <td>6642.0</td>\n",
       "      <td>2323.0</td>\n",
       "      <td>2332.0</td>\n",
       "      <td>12295.0</td>\n",
       "      <td>26958.0</td>\n",
       "      <td>1604.0</td>\n",
       "      <td>4156.0</td>\n",
       "      <td>10903.0</td>\n",
       "      <td>64579.0</td>\n",
       "      <td>8061.0</td>\n",
       "      <td>5126.0</td>\n",
       "      <td>2779.0</td>\n",
       "      <td>20000.0</td>\n",
       "      <td>101951.0</td>\n",
       "      <td>37611.0</td>\n",
       "      <td>931.940</td>\n",
       "    </tr>\n",
       "    <tr>\n",
       "      <th>2017-09-30</th>\n",
       "      <td>006066</td>\n",
       "      <td>19154.0</td>\n",
       "      <td>9011.0</td>\n",
       "      <td>6080.0</td>\n",
       "      <td>2887.0</td>\n",
       "      <td>2725.0</td>\n",
       "      <td>11515.0</td>\n",
       "      <td>27127.0</td>\n",
       "      <td>1711.0</td>\n",
       "      <td>4389.0</td>\n",
       "      <td>11057.0</td>\n",
       "      <td>65837.0</td>\n",
       "      <td>4299.0</td>\n",
       "      <td>5442.0</td>\n",
       "      <td>3038.0</td>\n",
       "      <td>18918.0</td>\n",
       "      <td>101879.0</td>\n",
       "      <td>41326.0</td>\n",
       "      <td>925.791</td>\n",
       "    </tr>\n",
       "  </tbody>\n",
       "</table>\n",
       "</div>"
      ],
      "text/plain": [
       "             gvkey    saleq   cogsq   xsgaq  oiadpq     niq     cheq    rectq  \\\n",
       "datadate                                                                        \n",
       "2015-06-30  006066  20813.0  9326.0  6477.0  4049.0  3449.0   8760.0  27911.0   \n",
       "2015-09-30  006066  19279.0  8776.0  6015.0  3552.0  2950.0   9568.0  25113.0   \n",
       "2015-12-31  006066  22059.0  9530.0  6504.0  5035.0  4463.0   8194.0  28554.0   \n",
       "2016-03-31  006066  18685.0  8836.0  7542.0  1283.0  2014.0  14869.0  26730.0   \n",
       "2016-06-30  006066  20238.0  9287.0  6791.0  3057.0  2504.0  10617.0  26546.0   \n",
       "2016-09-30  006066  19226.0  8939.0  6126.0  3034.0  2853.0   9968.0  25196.0   \n",
       "2016-12-31  006066  21771.0  9606.0  6404.0  4634.0  4501.0   8527.0  29245.0   \n",
       "2017-03-31  006066  18155.0  9126.0  6676.0  1254.0  1750.0  10695.0  25869.0   \n",
       "2017-06-30  006066  19288.0  9206.0  6642.0  2323.0  2332.0  12295.0  26958.0   \n",
       "2017-09-30  006066  19154.0  9011.0  6080.0  2887.0  2725.0  11515.0  27127.0   \n",
       "\n",
       "             invtq    acoq   ppentq      aoq    dlcq     apq    txpq     lcoq  \\\n",
       "datadate                                                                        \n",
       "2015-06-30  1912.0  6603.0  10702.0  56841.0  5329.0  5943.0  3639.0  20624.0   \n",
       "2015-09-30  1613.0  5818.0  10661.0  55875.0  7539.0  5166.0  2883.0  18144.0   \n",
       "2015-12-31  1551.0  4205.0  10727.0  57264.0  6461.0  6028.0  2847.0  18933.0   \n",
       "2016-03-31  1690.0  4334.0  10909.0  60324.0  5302.0  5302.0  2203.0  21857.0   \n",
       "2016-06-30  1685.0  4676.0  11092.0  63440.0  4887.0  5484.0  2275.0  20939.0   \n",
       "2016-09-30  1730.0  4539.0  11104.0  63069.0  6920.0  5271.0  2137.0  20119.0   \n",
       "2016-12-31  1553.0  4563.0  10830.0  62752.0  7513.0  6209.0  3235.0  19318.0   \n",
       "2017-03-31  1609.0  4715.0  10865.0  63742.0  8340.0  5324.0  2747.0  20070.0   \n",
       "2017-06-30  1604.0  4156.0  10903.0  64579.0  8061.0  5126.0  2779.0  20000.0   \n",
       "2017-09-30  1711.0  4389.0  11057.0  65837.0  4299.0  5442.0  3038.0  18918.0   \n",
       "\n",
       "                 ltq    dlttq    cshoq  \n",
       "datadate                                \n",
       "2015-06-30   98892.0  33340.0  979.530  \n",
       "2015-09-30   95198.0  32122.0  970.110  \n",
       "2015-12-31   96071.0  33428.0  965.729  \n",
       "2016-03-31  103784.0  40255.0  959.962  \n",
       "2016-06-30  102167.0  39637.0  955.844  \n",
       "2016-09-30   98447.0  35563.0  950.855  \n",
       "2016-12-31   99078.0  34655.0  945.867  \n",
       "2017-03-31   99047.0  34441.0  939.497  \n",
       "2017-06-30  101951.0  37611.0  931.940  \n",
       "2017-09-30  101879.0  41326.0  925.791  "
      ]
     },
     "execution_count": 9,
     "metadata": {},
     "output_type": "execute_result"
    }
   ],
   "source": [
    "y.iloc[-10::]"
   ]
  },
  {
   "cell_type": "code",
   "execution_count": 10,
   "metadata": {
    "collapsed": false
   },
   "outputs": [
    {
     "data": {
      "text/plain": [
       "79920"
      ]
     },
     "execution_count": 10,
     "metadata": {},
     "output_type": "execute_result"
    }
   ],
   "source": [
    "21771+19226+20238+18685"
   ]
  },
  {
   "cell_type": "code",
   "execution_count": null,
   "metadata": {
    "collapsed": true
   },
   "outputs": [],
   "source": []
  }
 ],
 "metadata": {
  "kernelspec": {
   "display_name": "Python 2",
   "language": "python",
   "name": "python2"
  },
  "language_info": {
   "codemirror_mode": {
    "name": "ipython",
    "version": 2
   },
   "file_extension": ".py",
   "mimetype": "text/x-python",
   "name": "python",
   "nbconvert_exporter": "python",
   "pygments_lexer": "ipython2",
   "version": "2.7.13"
  }
 },
 "nbformat": 4,
 "nbformat_minor": 0
}
