{
 "cells": [
  {
   "cell_type": "code",
   "execution_count": 1,
   "metadata": {
    "collapsed": true
   },
   "outputs": [],
   "source": [
    "import wrds\n",
    "import pandas as pd\n",
    "import datetime\n",
    "import numpy as np\n",
    "import pickle\n",
    "from time import time"
   ]
  },
  {
   "cell_type": "code",
   "execution_count": null,
   "metadata": {
    "collapsed": false
   },
   "outputs": [],
   "source": [
    "db = wrds.Connection()"
   ]
  },
  {
   "cell_type": "code",
   "execution_count": null,
   "metadata": {
    "collapsed": true
   },
   "outputs": [],
   "source": [
    "q = (\"select a.gvkey,a.latest,b.cshoq,b.prccq,b.mkvaltq,b.cshoq*b.prccq as market_cap,b.curcdq \"\n",
    "     \"from \"\n",
    "        \"(select gvkey,max(datadate) as latest \"\n",
    "         \"from \"\n",
    "         \"compm.fundq where datadate > '2017-01-01' \" \n",
    "         \"group by gvkey) a inner join \"\n",
    "             \"(select gvkey,datadate,mkvaltq,cshoq,prccq,curcdq \"\n",
    "                \"from compm.fundq where cshoq>0 and prccq>0 and curcdq='USD') b \"\n",
    "    \"on a.gvkey = b.gvkey and a.latest=b.datadate \"\n",
    "     \"order by market_cap desc \"\n",
    "    \"limit 100\")"
   ]
  },
  {
   "cell_type": "code",
   "execution_count": null,
   "metadata": {
    "collapsed": false
   },
   "outputs": [],
   "source": [
    "a = db.raw_sql(q)\n",
    "top_2000_eq_gvkey = a['gvkey'].values.tolist()\n",
    "top_2000_eq_gvkey = tuple([\"'%s'\"%str(i) for i in top_2000_eq_gvkey])\n",
    "top_2000_eq_gvkey = \",\".join(top_2000_eq_gvkey)"
   ]
  },
  {
   "cell_type": "code",
   "execution_count": null,
   "metadata": {
    "collapsed": false,
    "scrolled": true
   },
   "outputs": [],
   "source": [
    "q2 = (\"select datadate,gvkey,tic,saleq,cogsq,xsgaq,oiadpq,niq,\"\n",
    "      \"cheq, rectq, invtq, acoq, ppentq, aoq, dlcq, apq, txpq, lcoq, ltq, dlttq,cshoq \"\n",
    "    \"from compm.fundq \"\n",
    "     \"where gvkey in (%s) \")%top_2000_eq_gvkey\n",
    "c = db.raw_sql(q2)\n",
    "c.shape"
   ]
  },
  {
   "cell_type": "code",
   "execution_count": null,
   "metadata": {
    "collapsed": false
   },
   "outputs": [],
   "source": [
    "blnc_sheet_list = ['cheq','rectq','invtq','acoq','ppentq','aoq',\n",
    "                                'dlcq','apq','txpq','lcoq','ltq','dlttq','cshoq']\n",
    "mqr_list = [x + '_mqr' for x in blnc_sheet_list]"
   ]
  },
  {
   "cell_type": "code",
   "execution_count": null,
   "metadata": {
    "collapsed": false
   },
   "outputs": [],
   "source": [
    "income_list = ['saleq','cogsq','xsgaq','oiadpq','niq']\n",
    "x = c[['gvkey','datadate'] + income_list + blnc_sheet_list]\n",
    "x = x[x['gvkey'] == '006066']\n",
    "x.sort_values('datadate').head()"
   ]
  },
  {
   "cell_type": "code",
   "execution_count": null,
   "metadata": {
    "collapsed": false,
    "scrolled": false
   },
   "outputs": [],
   "source": [
    "t1 = time()\n",
    "%run wrds_data_processing.py\n",
    "print time()-t1"
   ]
  },
  {
   "cell_type": "code",
   "execution_count": null,
   "metadata": {
    "collapsed": false
   },
   "outputs": [],
   "source": [
    "qq = (\"select gvkey,datadate,prccm \"\n",
    "     \"from compm.secm \"\n",
    "     \"where gvkey='160329' \")\n",
    "d = db.raw_sql(qq).sort_values('datadate')\n",
    "d = d.set_index('datadate')"
   ]
  },
  {
   "cell_type": "code",
   "execution_count": null,
   "metadata": {
    "collapsed": false
   },
   "outputs": [],
   "source": [
    "d.loc[datetime.date(2014,3,31)]"
   ]
  },
  {
   "cell_type": "code",
   "execution_count": null,
   "metadata": {
    "collapsed": true
   },
   "outputs": [],
   "source": [
    "qq = (\"select * \"\n",
    "     \"from compm.secm \"\n",
    "     \"where gvkey='001690' \")\n",
    "d = db.raw_sql(qq).sort_values('datadate')\n",
    "d = d.set_index('datadate')"
   ]
  },
  {
   "cell_type": "code",
   "execution_count": null,
   "metadata": {
    "collapsed": false
   },
   "outputs": [],
   "source": [
    "d.loc[datetime.date(2014,3,31)]"
   ]
  },
  {
   "cell_type": "code",
   "execution_count": null,
   "metadata": {
    "collapsed": true
   },
   "outputs": [],
   "source": [
    "d.to_pickle(\"prccm.pkl\")"
   ]
  },
  {
   "cell_type": "code",
   "execution_count": null,
   "metadata": {
    "collapsed": true
   },
   "outputs": [],
   "source": [
    "q5 = (\"select gvkey,datadate,split \"\n",
    "     \"from compm.sec_split \"\n",
    "     \"where gvkey='160329' \")\n",
    "e = db.raw_sql(q5).sort_values('datadate')"
   ]
  },
  {
   "cell_type": "code",
   "execution_count": null,
   "metadata": {
    "collapsed": false
   },
   "outputs": [],
   "source": [
    "e= pd.read_pickle('prccm.pkl')"
   ]
  },
  {
   "cell_type": "code",
   "execution_count": null,
   "metadata": {
    "collapsed": false
   },
   "outputs": [],
   "source": []
  },
  {
   "cell_type": "code",
   "execution_count": 1,
   "metadata": {
    "collapsed": false
   },
   "outputs": [],
   "source": [
    "from time import time"
   ]
  },
  {
   "cell_type": "code",
   "execution_count": 2,
   "metadata": {
    "collapsed": false,
    "scrolled": false
   },
   "outputs": [
    {
     "name": "stdout",
     "output_type": "stream",
     "text": [
      "Enter your WRDS username [lakshay]:dsanghi\n",
      "Enter your password:········\n",
      "WRDS recommends setting up a .pgpass file.\n",
      "You can find more info here:\n",
      "https://www.postgresql.org/docs/9.5/static/libpq-pgpass.html.\n",
      "Loading library list...\n",
      "Done\n",
      "Shape of raw dataframe: 13979,21\n",
      "\n",
      "\n",
      "153.779999971\n"
     ]
    }
   ],
   "source": [
    "t1 = time()\n",
    "%run build_data.py\n",
    "print time()-t1"
   ]
  },
  {
   "cell_type": "code",
   "execution_count": null,
   "metadata": {
    "collapsed": false
   },
   "outputs": [],
   "source": []
  },
  {
   "cell_type": "code",
   "execution_count": null,
   "metadata": {
    "collapsed": false
   },
   "outputs": [],
   "source": []
  },
  {
   "cell_type": "code",
   "execution_count": null,
   "metadata": {
    "collapsed": true
   },
   "outputs": [],
   "source": []
  }
 ],
 "metadata": {
  "kernelspec": {
   "display_name": "Python 2",
   "language": "python",
   "name": "python2"
  },
  "language_info": {
   "codemirror_mode": {
    "name": "ipython",
    "version": 2
   },
   "file_extension": ".py",
   "mimetype": "text/x-python",
   "name": "python",
   "nbconvert_exporter": "python",
   "pygments_lexer": "ipython2",
   "version": "2.7.13"
  }
 },
 "nbformat": 4,
 "nbformat_minor": 0
}
